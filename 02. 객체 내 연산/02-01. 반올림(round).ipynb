{
 "cells": [
  {
   "cell_type": "markdown",
   "metadata": {},
   "source": [
    "## 02-01. 반올림(round)"
   ]
  },
  {
   "cell_type": "code",
   "execution_count": 2,
   "metadata": {},
   "outputs": [],
   "source": [
    "# DataFrame.round(decimals=0, args, kwargs)"
   ]
  },
  {
   "cell_type": "markdown",
   "metadata": {},
   "source": [
    "### 개요\n",
    "- round 함수는 DataFrame 객체 내의 요소를 반올림하는 메서드"
   ]
  },
  {
   "cell_type": "markdown",
   "metadata": {},
   "source": [
    "### 사용법\n",
    "#### 기본 사용법\n",
    "```python\n",
    "df.round(decimals=0, args, kwargs)\n",
    "```\n",
    "- decimals: 소수 n번째 자리 '까지' 반올림을 함. 만약 음수면 10의 n승자리까지 반올림함"
   ]
  },
  {
   "cell_type": "code",
   "execution_count": 3,
   "metadata": {},
   "outputs": [
    {
     "name": "stdout",
     "output_type": "stream",
     "text": [
      "           col1       col2       col3\n",
      "row1  71.694714  28.066710  51.519869\n",
      "row2  61.758810  15.034503  96.208624\n",
      "row3  15.546523  91.879482  62.767750\n"
     ]
    }
   ],
   "source": [
    "import pandas as pd\n",
    "import numpy as np\n",
    "\n",
    "col = ['col1', 'col2', 'col3']\n",
    "row = ['row1', 'row2', 'row3']\n",
    "data = np.random.rand(3, 3)*100\n",
    "df = pd.DataFrame(data=data, index=row, columns=col)\n",
    "print(df)"
   ]
  },
  {
   "cell_type": "code",
   "execution_count": 4,
   "metadata": {},
   "outputs": [
    {
     "name": "stdout",
     "output_type": "stream",
     "text": [
      "      col1  col2  col3\n",
      "row1  72.0  28.0  52.0\n",
      "row2  62.0  15.0  96.0\n",
      "row3  16.0  92.0  63.0\n"
     ]
    }
   ],
   "source": [
    "# decimals=0인 경우: 1의 자리까지 반올림\n",
    "print(df.round(0))"
   ]
  },
  {
   "cell_type": "code",
   "execution_count": 5,
   "metadata": {},
   "outputs": [
    {
     "name": "stdout",
     "output_type": "stream",
     "text": [
      "      col1  col2  col3\n",
      "row1  71.7  28.1  51.5\n",
      "row2  61.8  15.0  96.2\n",
      "row3  15.5  91.9  62.8\n"
     ]
    }
   ],
   "source": [
    "# decimals > 0인 경우: 소수 n번째 자리까지 반올림\n",
    "print(df.round(1))"
   ]
  },
  {
   "cell_type": "code",
   "execution_count": 6,
   "metadata": {},
   "outputs": [
    {
     "name": "stdout",
     "output_type": "stream",
     "text": [
      "      col1  col2   col3\n",
      "row1  70.0  30.0   50.0\n",
      "row2  60.0  20.0  100.0\n",
      "row3  20.0  90.0   60.0\n"
     ]
    }
   ],
   "source": [
    "# decimals < 0인 경우: 10의 n승 자리까지 반올림\n",
    "print(df.round(-1))"
   ]
  }
 ],
 "metadata": {
  "kernelspec": {
   "display_name": "Python 3",
   "language": "python",
   "name": "python3"
  },
  "language_info": {
   "codemirror_mode": {
    "name": "ipython",
    "version": 3
   },
   "file_extension": ".py",
   "mimetype": "text/x-python",
   "name": "python",
   "nbconvert_exporter": "python",
   "pygments_lexer": "ipython3",
   "version": "3.9.7"
  }
 },
 "nbformat": 4,
 "nbformat_minor": 2
}
