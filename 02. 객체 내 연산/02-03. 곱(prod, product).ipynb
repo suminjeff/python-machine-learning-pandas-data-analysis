{
 "cells": [
  {
   "cell_type": "markdown",
   "metadata": {},
   "source": [
    "## 02-03. 곱(prod, product)"
   ]
  },
  {
   "cell_type": "code",
   "execution_count": 3,
   "metadata": {},
   "outputs": [],
   "source": [
    "# DataFrame.prod(axis=None, skipna=None, level=None, numeric_only=None, min_count=0, kwargs)\n",
    "# DataFrame.product(axis=None, skipna=None, level=None, numeric_only=None, min_count=0, kwargs)"
   ]
  },
  {
   "cell_type": "markdown",
   "metadata": {},
   "source": [
    "### 개요\n",
    "- prod 메서드는 객체의 행이나 열의 곱을 구하는 메서드\n",
    "- product메서드와 동일"
   ]
  },
  {
   "cell_type": "markdown",
   "metadata": {},
   "source": [
    "### 사용법\n",
    "```python\n",
    "df.prod(axis=None, skipna=None, level=None, numeric_only=None, min_count=0, kwargs)\n",
    "```\n",
    "- axis: {0: 행, 1: 열} 곱할 레이블 선택\n",
    "- skipna: {True, False} Na가 존재할 경우 무시할지의 여부. 기본값은 True\n",
    "- level: Multi Index일 경우 레벨을 설정\n",
    "- numeric_only: 숫자 데이터만 사용할지의 여부\n",
    "- min_count: 계산에 필요한 숫자의 최소 갯수"
   ]
  },
  {
   "cell_type": "code",
   "execution_count": 4,
   "metadata": {},
   "outputs": [
    {
     "name": "stdout",
     "output_type": "stream",
     "text": [
      "      col1  col2  col3\n",
      "row1     1   2.0     3\n",
      "row2     4   5.0     6\n",
      "row3     7   NaN     9\n"
     ]
    }
   ],
   "source": [
    "import pandas as pd\n",
    "import numpy as np\n",
    "\n",
    "col = ['col1','col2','col3']\n",
    "row = ['row1','row2','row3']\n",
    "data = [[1,2,3],[4,5,6],[7,np.NaN,9]]\n",
    "df = pd.DataFrame(data=data,index=row,columns=col)\n",
    "print(df)"
   ]
  },
  {
   "cell_type": "code",
   "execution_count": 5,
   "metadata": {},
   "outputs": [
    {
     "name": "stdout",
     "output_type": "stream",
     "text": [
      "col1     28.0\n",
      "col2     10.0\n",
      "col3    162.0\n",
      "dtype: float64\n"
     ]
    }
   ],
   "source": [
    "print(df.prod(axis=0))\n"
   ]
  },
  {
   "cell_type": "code",
   "execution_count": 6,
   "metadata": {},
   "outputs": [
    {
     "name": "stdout",
     "output_type": "stream",
     "text": [
      "row1      6.0\n",
      "row2    120.0\n",
      "row3     63.0\n",
      "dtype: float64\n"
     ]
    }
   ],
   "source": [
    "print(df.prod(axis=1))\n"
   ]
  },
  {
   "cell_type": "code",
   "execution_count": 7,
   "metadata": {},
   "outputs": [
    {
     "name": "stdout",
     "output_type": "stream",
     "text": [
      "col1     28.0\n",
      "col2      NaN\n",
      "col3    162.0\n",
      "dtype: float64\n"
     ]
    }
   ],
   "source": [
    "print(df.prod(axis=0, skipna=False))\n"
   ]
  },
  {
   "cell_type": "code",
   "execution_count": 8,
   "metadata": {},
   "outputs": [
    {
     "name": "stdout",
     "output_type": "stream",
     "text": [
      "row1      6.0\n",
      "row2    120.0\n",
      "row3      NaN\n",
      "dtype: float64\n"
     ]
    }
   ],
   "source": [
    "print(df.prod(axis=1, min_count=3))\n"
   ]
  },
  {
   "cell_type": "code",
   "execution_count": null,
   "metadata": {},
   "outputs": [],
   "source": []
  }
 ],
 "metadata": {
  "kernelspec": {
   "display_name": "Python 3",
   "language": "python",
   "name": "python3"
  },
  "language_info": {
   "codemirror_mode": {
    "name": "ipython",
    "version": 3
   },
   "file_extension": ".py",
   "mimetype": "text/x-python",
   "name": "python",
   "nbconvert_exporter": "python",
   "pygments_lexer": "ipython3",
   "version": "3.9.7"
  }
 },
 "nbformat": 4,
 "nbformat_minor": 2
}
