{
 "cells": [
  {
   "cell_type": "markdown",
   "metadata": {},
   "source": [
    "## 02-04. 절대값(abs)"
   ]
  },
  {
   "cell_type": "code",
   "execution_count": null,
   "metadata": {},
   "outputs": [],
   "source": [
    "# DataFrame.abs()"
   ]
  },
  {
   "cell_type": "markdown",
   "metadata": {},
   "source": [
    "### 개요\n",
    "- abs 메서드는 각 요소의 절댓값을 반환하는 메서드"
   ]
  },
  {
   "cell_type": "markdown",
   "metadata": {},
   "source": [
    "### 사용법\n",
    "```python\n",
    "df.abs()\n",
    "```\n",
    "- 숫자의 경우 절댓값을 반환하며, 복소수의 경우 복소수의 크기가 반환됨\n",
    "  - NaN의 경우는 NaN을 그대로 출력"
   ]
  },
  {
   "cell_type": "code",
   "execution_count": 2,
   "metadata": {},
   "outputs": [
    {
     "name": "stdout",
     "output_type": "stream",
     "text": [
      "      col1  col2      col3\n",
      "row1    -1   2.0 -3.5+0.0j\n",
      "row2     4  -4.4  3.0+4.0j\n",
      "row3     7   NaN  0.0+0.0j\n"
     ]
    }
   ],
   "source": [
    "import pandas as pd\n",
    "import numpy as np\n",
    "\n",
    "col = ['col1', 'col2', 'col3']\n",
    "row = ['row1', 'row2', 'row3']\n",
    "data = [[-1, 2, -3.5], [4, -4.4, 3+4j], [7, np.NaN, 0]]\n",
    "df = pd.DataFrame(data=data, index=row, columns=col)\n",
    "print(df)\n"
   ]
  },
  {
   "cell_type": "code",
   "execution_count": 3,
   "metadata": {},
   "outputs": [
    {
     "name": "stdout",
     "output_type": "stream",
     "text": [
      "      col1  col2  col3\n",
      "row1     1   2.0   3.5\n",
      "row2     4   4.4   5.0\n",
      "row3     7   NaN   0.0\n"
     ]
    }
   ],
   "source": [
    "print(df.abs())"
   ]
  },
  {
   "cell_type": "code",
   "execution_count": null,
   "metadata": {},
   "outputs": [],
   "source": []
  }
 ],
 "metadata": {
  "kernelspec": {
   "display_name": "Python 3",
   "language": "python",
   "name": "python3"
  },
  "language_info": {
   "codemirror_mode": {
    "name": "ipython",
    "version": 3
   },
   "file_extension": ".py",
   "mimetype": "text/x-python",
   "name": "python",
   "nbconvert_exporter": "python",
   "pygments_lexer": "ipython3",
   "version": "3.9.7"
  }
 },
 "nbformat": 4,
 "nbformat_minor": 2
}
