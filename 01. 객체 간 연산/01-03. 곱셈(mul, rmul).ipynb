{
 "cells": [
  {
   "cell_type": "markdown",
   "metadata": {},
   "source": [
    "## 01-03. 곱셈(mul, rmul)"
   ]
  },
  {
   "cell_type": "code",
   "execution_count": 1,
   "metadata": {},
   "outputs": [],
   "source": [
    "# DataFrame.mul(other, axis='columns', level=None, fill_value=None)\n",
    "# DataFrame.rmul(other, axis='columns', level=None, fill_value=None)"
   ]
  },
  {
   "cell_type": "markdown",
   "metadata": {},
   "source": [
    "### 개요\n",
    "- sub 함수는 DataFrame에 다른 데이터프레임이나, Series, 스칼라 등 데이터를 곱하는 메서드\n",
    "- 단순 df - 다른df 등의 계산과 차별화되는 것은 fill_value 인수를 통해 계산 불가한 값을 채워 넣는다는 것. (add와 동일)"
   ]
  },
  {
   "cell_type": "markdown",
   "metadata": {},
   "source": [
    "### 사용법\n",
    "#### 기본 사용법\n",
    "```python\n",
    "df.mul(other, axis='columns', level=None, fill_value=None)\n",
    "```\n",
    "- other: 데이터프레임이나, Series, 스칼라 등 데이터가 올 수 있음. 곱할 값임\n",
    "- axis: 뺄 레이블을 설정. 0은 행(index), 1은 열.\n",
    "- level: multiIndex에서 계산할 Index의 레벨\n",
    "- fill_value: NaN값 등 누락 요소를 계산 전에 대체"
   ]
  },
  {
   "cell_type": "code",
   "execution_count": 2,
   "metadata": {},
   "outputs": [
    {
     "name": "stdout",
     "output_type": "stream",
     "text": [
      "      col1  col2  col3\n",
      "row1     1    10   100\n",
      "row2     2    20   200\n",
      "row3     3    30   300\n"
     ]
    }
   ],
   "source": [
    "import pandas as pd\n",
    "\n",
    "data = [[1,10,100],[2,20,200],[3,30,300]]\n",
    "col = ['col1','col2','col3']\n",
    "row = ['row1','row2','row3']\n",
    "df = pd.DataFrame(data=data,index=row,columns=col)\n",
    "print(df)"
   ]
  },
  {
   "cell_type": "code",
   "execution_count": 4,
   "metadata": {},
   "outputs": [
    {
     "name": "stdout",
     "output_type": "stream",
     "text": [
      "      col1  col2  col3\n",
      "row1     2    20   200\n",
      "row2     4    40   400\n",
      "row3     6    60   600\n"
     ]
    }
   ],
   "source": [
    "# 스칼라 값 곱하기\n",
    "result = df.mul(2)\n",
    "print(result)"
   ]
  },
  {
   "cell_type": "code",
   "execution_count": 5,
   "metadata": {},
   "outputs": [
    {
     "name": "stdout",
     "output_type": "stream",
     "text": [
      "      col1  col2  col3\n",
      "row1     2    20   200\n",
      "row2     4    40   400\n",
      "row3     6    60   600\n"
     ]
    }
   ],
   "source": [
    "result = df*2\n",
    "print(result)"
   ]
  },
  {
   "cell_type": "code",
   "execution_count": 6,
   "metadata": {},
   "outputs": [
    {
     "name": "stdout",
     "output_type": "stream",
     "text": [
      "      col1\n",
      "row1     3\n",
      "row2     4\n",
      "row3     5\n"
     ]
    }
   ],
   "source": [
    "# 다른 DataFrame 객체 곱하기\n",
    "data2  = [[3],[4],[5]]\n",
    "df2 = pd.DataFrame(data=data2,index=['row1','row2','row3'],columns=['col1'])\n",
    "print(df2)"
   ]
  },
  {
   "cell_type": "code",
   "execution_count": 7,
   "metadata": {},
   "outputs": [
    {
     "name": "stdout",
     "output_type": "stream",
     "text": [
      "      col1  col2  col3\n",
      "row1     3   NaN   NaN\n",
      "row2     8   NaN   NaN\n",
      "row3    15   NaN   NaN\n"
     ]
    }
   ],
   "source": [
    "result = df.mul(df2)\n",
    "print(result)"
   ]
  },
  {
   "cell_type": "code",
   "execution_count": 8,
   "metadata": {},
   "outputs": [
    {
     "name": "stdout",
     "output_type": "stream",
     "text": [
      "      col1  col2  col3\n",
      "row1     3   0.0   0.0\n",
      "row2     8   0.0   0.0\n",
      "row3    15   0.0   0.0\n"
     ]
    }
   ],
   "source": [
    "result = df.mul(df2, fill_value=0)\n",
    "print(result)"
   ]
  }
 ],
 "metadata": {
  "kernelspec": {
   "display_name": "Python 3",
   "language": "python",
   "name": "python3"
  },
  "language_info": {
   "codemirror_mode": {
    "name": "ipython",
    "version": 3
   },
   "file_extension": ".py",
   "mimetype": "text/x-python",
   "name": "python",
   "nbconvert_exporter": "python",
   "pygments_lexer": "ipython3",
   "version": "3.9.7"
  }
 },
 "nbformat": 4,
 "nbformat_minor": 2
}
