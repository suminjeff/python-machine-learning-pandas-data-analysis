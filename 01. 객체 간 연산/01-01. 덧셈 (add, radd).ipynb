{
 "cells": [
  {
   "cell_type": "markdown",
   "metadata": {},
   "source": [
    "## 01-01. 덧셈(add, radd)"
   ]
  },
  {
   "cell_type": "code",
   "execution_count": 2,
   "metadata": {},
   "outputs": [],
   "source": [
    "# DataFrame.add(other, axis='columns', level=None, fill_value=None)\n",
    "# DataFrame.radd(other, axis='columns', level=None, fill_value=None)"
   ]
  },
  {
   "cell_type": "markdown",
   "metadata": {},
   "source": [
    "### 개요\n",
    "- add 함수는 DataFrame에 다른 데이터프레임이나 Series, 스칼라 등의 데이터를 더하는 메서드\n",
    "- 단순 df + 다른df 등의 계산과 차별화되는 것은 fill_value 인수를 통해 계산 불가한 값을 채워 넣는다는 것\n",
    "- radd의 경우 add의 경우에서 순서만 바꾼 것. 즉 add가 'df+df2'라면 radd는 'df2+df'임. (add와 사용법은 동일)"
   ]
  },
  {
   "cell_type": "markdown",
   "metadata": {},
   "source": [
    "### 사용법\n",
    "#### 기본 사용법\n",
    "- df.add(other, axis='columns', level=None, fill_value=None)\n",
    "    - other: 데이터프레임이나, Series, 스칼라 등 데이터가 올 수 있음. 더할 값임\n",
    "    - axis: 더할 레이블을 설정. 0은 행(index), 1은 열. Series일 경우 Index와 일치시킬 축\n",
    "    - level: multiIndex에서 계산할 Index의 레벨\n",
    "    - fill_value: NaN 값등의 누락 요소를 계산 전에 이 값으로 대체"
   ]
  },
  {
   "cell_type": "code",
   "execution_count": 3,
   "metadata": {},
   "outputs": [
    {
     "name": "stdout",
     "output_type": "stream",
     "text": [
      "      col1  col2  col3\n",
      "row1     1    10   100\n",
      "row2     2    20   200\n",
      "row3     3    30   300\n"
     ]
    }
   ],
   "source": [
    "import pandas as pd\n",
    "\n",
    "data = [[1, 10, 100], [2, 20, 200], [3, 30, 300]]\n",
    "col = ['col1', 'col2', 'col3']\n",
    "row = ['row1', 'row2', 'row3']\n",
    "df = pd.DataFrame(data=data, index=row, columns=col)\n",
    "print(df)"
   ]
  },
  {
   "cell_type": "code",
   "execution_count": 4,
   "metadata": {},
   "outputs": [
    {
     "name": "stdout",
     "output_type": "stream",
     "text": [
      "      col1  col2  col3\n",
      "row1     2    11   101\n",
      "row2     3    21   201\n",
      "row3     4    31   301\n"
     ]
    }
   ],
   "source": [
    "# 스칼라 값 더하기\n",
    "result = df.add(1)\n",
    "print(result)"
   ]
  },
  {
   "cell_type": "code",
   "execution_count": 6,
   "metadata": {},
   "outputs": [
    {
     "name": "stdout",
     "output_type": "stream",
     "text": [
      "      col1  col2  col3\n",
      "row1     2    11   101\n",
      "row2     3    21   201\n",
      "row3     4    31   301\n"
     ]
    }
   ],
   "source": [
    "print(df+1)"
   ]
  },
  {
   "cell_type": "code",
   "execution_count": 7,
   "metadata": {},
   "outputs": [
    {
     "name": "stdout",
     "output_type": "stream",
     "text": [
      "      col1\n",
      "row1     3\n",
      "row2     4\n",
      "row3     5\n"
     ]
    }
   ],
   "source": [
    "# 다른 DataFrame 객체를 더하기\n",
    "data2 = [[3], [4], [5]]\n",
    "df2 = pd.DataFrame(data=data2, index=['row1', 'row2', 'row3'], columns=['col1'])\n",
    "print(df2)"
   ]
  },
  {
   "cell_type": "code",
   "execution_count": 8,
   "metadata": {},
   "outputs": [
    {
     "name": "stdout",
     "output_type": "stream",
     "text": [
      "      col1  col2  col3\n",
      "row1     4   NaN   NaN\n",
      "row2     6   NaN   NaN\n",
      "row3     8   NaN   NaN\n"
     ]
    }
   ],
   "source": [
    "result = df.add(df2)\n",
    "print(result)"
   ]
  },
  {
   "cell_type": "code",
   "execution_count": 9,
   "metadata": {},
   "outputs": [
    {
     "name": "stdout",
     "output_type": "stream",
     "text": [
      "      col1  col2   col3\n",
      "row1     4  10.0  100.0\n",
      "row2     6  20.0  200.0\n",
      "row3     8  30.0  300.0\n"
     ]
    }
   ],
   "source": [
    "result = df.add(df2, fill_value=0)\n",
    "print(result)"
   ]
  },
  {
   "cell_type": "code",
   "execution_count": null,
   "metadata": {},
   "outputs": [],
   "source": [
    "# df2에는 존재하지 않던 col2, col3의 요소들에 대해 fill_value 값인 0으로 채워 넣은 뒤 계산을 진행해 계산한 것을 알 수 있음"
   ]
  }
 ],
 "metadata": {
  "kernelspec": {
   "display_name": "Python 3",
   "language": "python",
   "name": "python3"
  },
  "language_info": {
   "codemirror_mode": {
    "name": "ipython",
    "version": 3
   },
   "file_extension": ".py",
   "mimetype": "text/x-python",
   "name": "python",
   "nbconvert_exporter": "python",
   "pygments_lexer": "ipython3",
   "version": "3.9.7"
  }
 },
 "nbformat": 4,
 "nbformat_minor": 2
}
