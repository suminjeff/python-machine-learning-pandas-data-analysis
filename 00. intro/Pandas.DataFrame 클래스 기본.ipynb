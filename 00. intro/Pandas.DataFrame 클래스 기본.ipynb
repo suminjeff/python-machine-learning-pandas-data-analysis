{
 "cells": [
  {
   "cell_type": "markdown",
   "metadata": {},
   "source": [
    "## Pandas.DataFrame 클래스 기본"
   ]
  },
  {
   "cell_type": "markdown",
   "metadata": {},
   "source": [
    "### Pandas.DataFrame 클래스 구조\n",
    "pandas dataframe 객체는 기본적으로 아래와 같은 클래스로 구성됨"
   ]
  },
  {
   "cell_type": "code",
   "execution_count": 5,
   "metadata": {},
   "outputs": [],
   "source": [
    "# class pandas.Dataframe(data=None, index=None, columns=None, copy=None)"
   ]
  },
  {
   "cell_type": "markdown",
   "metadata": {},
   "source": [
    "- pandas.DataFrame으로 생성된 인스턴스는 크기의 변경이 가능한 2차원 배열 (Series는 1차원)\n",
    "- 데이터 구조에는 레이블이 지정된 축인 행과 열까지 포함되며, 클래스 메서드를 통해 레이블의 수정이 가능"
   ]
  },
  {
   "cell_type": "markdown",
   "metadata": {},
   "source": [
    "#### Parameter"
   ]
  },
  {
   "cell_type": "markdown",
   "metadata": {},
   "source": [
    "- data: ndarray, Iterable, dict, DataFrame\n",
    "    - dict에는 Series, 배열 등등 list와 유사한 오브젝트가 올 수 있음.\n",
    "    - 데이터가 dict인 경우 열(Columns)의 순서는 삽입 순서를 따름.\n",
    "- index: 인덱스 또는 배열형태의 객체\n",
    "    - 인스턴스에 설정되는 행 레이블.\n",
    "    - 입력하지 않으면 기본 인덱스가 설정됨 (0, 1, 2, 3)\n",
    "- columns: 인덱스 또는 배열형태의 객체\n",
    "    - 인스턴스에 설정되는 열 레이블.\n",
    "    - 입력하지 않으면 기본 인덱스가 설정됨 (0, 1, 2, 3)\n",
    "- dtype: dtype 데이터 유형을 강제하고자 할 때의 값.\n",
    "    - 기본값은 None.\n",
    "    - None일 경우 type이 자동으로 추론됨\n",
    "- copy: bool\n",
    "    - True일 경우 Dataframe의 원본 데이터를 수정하더라도 인스턴스가 변경되지 않지만\n",
    "    - False일 경우 원본데이터를 수정할 시 인스턴스의 값도 바뀌게 됨.\n",
    "    - 아래외 같이 2x2 Dataframe을 예로 들면"
   ]
  },
  {
   "cell_type": "code",
   "execution_count": 10,
   "metadata": {},
   "outputs": [
    {
     "name": "stdout",
     "output_type": "stream",
     "text": [
      "[[5 0]\n",
      " [3 3]]\n"
     ]
    }
   ],
   "source": [
    "import pandas as pd\n",
    "import numpy as np\n",
    "\n",
    "np.random.seed(0)\n",
    "arr = np.random.randint(10, size=(2, 2)) # 2*2짜리 random array 생성\n",
    "print(arr)\n"
   ]
  },
  {
   "cell_type": "code",
   "execution_count": 11,
   "metadata": {},
   "outputs": [],
   "source": [
    "df1 = pd.DataFrame(arr, copy=False)\n",
    "df2 = pd.DataFrame(arr, copy=True)"
   ]
  },
  {
   "cell_type": "code",
   "execution_count": 14,
   "metadata": {},
   "outputs": [
    {
     "name": "stdout",
     "output_type": "stream",
     "text": [
      "    0  1\n",
      "0  99  0\n",
      "1   3  3\n"
     ]
    }
   ],
   "source": [
    "arr[0, 0] = 99\n",
    "print(df1)"
   ]
  },
  {
   "cell_type": "code",
   "execution_count": 15,
   "metadata": {},
   "outputs": [
    {
     "name": "stdout",
     "output_type": "stream",
     "text": [
      "   0  1\n",
      "0  5  0\n",
      "1  3  3\n"
     ]
    }
   ],
   "source": [
    "print(df2)"
   ]
  },
  {
   "cell_type": "markdown",
   "metadata": {},
   "source": [
    "### Pandas.DataFrame 클래스 예시\n",
    "\n",
    "#### 예시 01. dictionary로 만들기\n",
    "- 데이터 자체가 2차원 배열 형태일 경우 data만 설정해주어도 dataframe 객체의 생성이 가능함"
   ]
  },
  {
   "cell_type": "code",
   "execution_count": 16,
   "metadata": {},
   "outputs": [
    {
     "name": "stdout",
     "output_type": "stream",
     "text": [
      "   A  B\n",
      "0  1  3\n",
      "1  2  4\n"
     ]
    }
   ],
   "source": [
    "data = {'A': [1, 2], 'B': [3, 4]}\n",
    "df = pd.DataFrame(data=data)\n",
    "print(df)"
   ]
  },
  {
   "cell_type": "markdown",
   "metadata": {},
   "source": [
    "#### 예시 02. index, column 설정"
   ]
  },
  {
   "cell_type": "code",
   "execution_count": 22,
   "metadata": {},
   "outputs": [
    {
     "name": "stdout",
     "output_type": "stream",
     "text": [
      "      col1  col2\n",
      "row1     1     2\n",
      "row2     3     4\n"
     ]
    }
   ],
   "source": [
    "data = np.array([[1, 2], [3, 4]])\n",
    "df = pd.DataFrame(data=data, index=['row1', 'row2'], columns=['col1', 'col2'])\n",
    "print(df)"
   ]
  },
  {
   "cell_type": "code",
   "execution_count": null,
   "metadata": {},
   "outputs": [],
   "source": []
  }
 ],
 "metadata": {
  "kernelspec": {
   "display_name": "Python 3",
   "language": "python",
   "name": "python3"
  },
  "language_info": {
   "codemirror_mode": {
    "name": "ipython",
    "version": 3
   },
   "file_extension": ".py",
   "mimetype": "text/x-python",
   "name": "python",
   "nbconvert_exporter": "python",
   "pygments_lexer": "ipython3",
   "version": "3.9.7"
  }
 },
 "nbformat": 4,
 "nbformat_minor": 2
}
